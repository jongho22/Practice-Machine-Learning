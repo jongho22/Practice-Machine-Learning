{
 "cells": [
  {
   "cell_type": "code",
   "execution_count": 55,
   "metadata": {},
   "outputs": [],
   "source": [
    "import numpy as np\n",
    "\n",
    "# sigmoid 함수\n",
    "def sigmoid(x):\n",
    "    return 1 / (1+np.exp(-x))\n",
    "\n",
    "# 수치미분 함수\n",
    "def numerical_derivative(f, x):\n",
    "    delta_x = 1e-4 # 0.0001\n",
    "    grad = np.zeros_like(x)\n",
    "    \n",
    "    it = np.nditer(x, flags=['multi_index'], op_flags=['readwrite'])\n",
    "    \n",
    "    while not it.finished:\n",
    "        idx = it.multi_index        \n",
    "        tmp_val = x[idx]\n",
    "        x[idx] = float(tmp_val) + delta_x\n",
    "        fx1 = f(x) # f(x+delta_x)\n",
    "        \n",
    "        x[idx] = tmp_val - delta_x \n",
    "        fx2 = f(x) # f(x-delta_x)\n",
    "        grad[idx] = (fx1 - fx2) / (2*delta_x)\n",
    "        \n",
    "        x[idx] = tmp_val \n",
    "        it.iternext()   \n",
    "        \n",
    "    return grad"
   ]
  },
  {
   "cell_type": "code",
   "execution_count": 56,
   "metadata": {},
   "outputs": [],
   "source": [
    "# LogicGate Class\n",
    "\n",
    "class LogicGate:\n",
    "    \n",
    "    def __init__(self, gate_name, xdata, tdata):  # xdata, tdata => numpy.array(...)\n",
    "        \n",
    "        self.name = gate_name\n",
    "        \n",
    "        # 입력 데이터, 정답 데이터 초기화\n",
    "        self.__xdata = xdata.reshape(4,2)\n",
    "        self.__tdata = tdata.reshape(4,1)\n",
    "        \n",
    "        # 가중치 W, 바이어스 b 초기화\n",
    "        self.__W = np.random.rand(2,1)  # weight, 2 X 1 matrix\n",
    "        self.__b = np.random.rand(1)\n",
    "                        \n",
    "        # 학습률 learning rate 초기화\n",
    "        self.__learning_rate = 1e-2\n",
    "        \n",
    "    # 손실함수\n",
    "    def __loss_func(self):\n",
    "        \n",
    "        delta = 1e-7    # log 무한대 발산 방지\n",
    "    \n",
    "        z = np.dot(self.__xdata, self.__W) + self.__b\n",
    "        y = sigmoid(z)\n",
    "    \n",
    "        # cross-entropy \n",
    "        return  -np.sum( self.__tdata*np.log(y + delta) + (1-self.__tdata)*np.log((1 - y)+delta ) )      \n",
    "    \n",
    "    # 손실 값 계산\n",
    "    def error_val(self):\n",
    "        \n",
    "        delta = 1e-7    # log 무한대 발산 방지\n",
    "    \n",
    "        z = np.dot(self.__xdata, self.__W) + self.__b\n",
    "        y = sigmoid(z)\n",
    "    \n",
    "        # cross-entropy \n",
    "        return  -np.sum( self.__tdata*np.log(y + delta) + (1-self.__tdata)*np.log((1 - y)+delta ) )\n",
    "\n",
    "    # 수치미분을 이용하여 손실함수가 최소가 될때 까지 학습하는 함수\n",
    "    def train(self):\n",
    "        \n",
    "        f = lambda x : self.__loss_func()\n",
    "        \n",
    "        print(\"Initial error value = \", self.error_val())\n",
    "        \n",
    "        for step in  range(8001):\n",
    "            \n",
    "            self.__W -= self.__learning_rate * numerical_derivative(f, self.__W)\n",
    "    \n",
    "            self.__b -= self.__learning_rate * numerical_derivative(f, self.__b)\n",
    "    \n",
    "            if (step % 400 == 0):\n",
    "                print(\"step = \", step, \"error value = \", self.error_val())\n",
    "                \n",
    "                \n",
    "    # 미래 값 예측 함수\n",
    "    def predict(self, input_data):\n",
    "        \n",
    "        z = np.dot(input_data, self.__W) + self.__b\n",
    "        y = sigmoid(z)\n",
    "    \n",
    "        if y > 0.5:\n",
    "            result = 1  # True\n",
    "        else:\n",
    "            result = 0  # False\n",
    "    \n",
    "        return y, result"
   ]
  },
  {
   "cell_type": "code",
   "execution_count": 57,
   "metadata": {},
   "outputs": [
    {
     "name": "stdout",
     "output_type": "stream",
     "text": [
      "Initial error value =  3.5679716946182323\n",
      "step =  0 error value =  3.531443461318097\n",
      "step =  400 error value =  1.5302654961602928\n",
      "step =  800 error value =  1.1391841443724782\n",
      "step =  1200 error value =  0.9165965755822105\n",
      "step =  1600 error value =  0.7694416330270981\n",
      "step =  2000 error value =  0.6635834013108415\n",
      "step =  2400 error value =  0.5832798604925106\n",
      "step =  2800 error value =  0.5200927060410263\n",
      "step =  3200 error value =  0.4690145708950717\n",
      "step =  3600 error value =  0.4268528123301537\n",
      "step =  4000 error value =  0.3914611480303667\n",
      "step =  4400 error value =  0.3613369696030656\n",
      "step =  4800 error value =  0.3353939426147635\n",
      "step =  5200 error value =  0.31282585626446124\n",
      "step =  5600 error value =  0.29302119815183014\n",
      "step =  6000 error value =  0.27550746555380873\n",
      "step =  6400 error value =  0.2599136879888865\n",
      "step =  6800 error value =  0.2459445175566437\n",
      "step =  7200 error value =  0.2333618980188088\n",
      "step =  7600 error value =  0.2219718328311342\n",
      "step =  8000 error value =  0.21161466381349409\n"
     ]
    }
   ],
   "source": [
    "xdata = np.array([[0,0],[0,1],[1,0],[1,1]])\n",
    "tdata = np.array([0,0,0,1])\n",
    "\n",
    "AND_obj = LogicGate(\"AND_GATE\",xdata,tdata)\n",
    "AND_obj.train()"
   ]
  },
  {
   "cell_type": "code",
   "execution_count": 58,
   "metadata": {},
   "outputs": [
    {
     "name": "stdout",
     "output_type": "stream",
     "text": [
      "AND_GATE\n",
      "[0 0]  =  0\n",
      "[0 1]  =  0\n",
      "[1 0]  =  0\n",
      "[1 1]  =  1\n"
     ]
    }
   ],
   "source": [
    "print(AND_obj.name)\n",
    "\n",
    "test_data = np.array([[0,0],[0,1],[1,0],[1,1]])\n",
    "\n",
    "for input_data in test_data :\n",
    "    (sigmoid_val, logical_val) = AND_obj.predict(input_data)\n",
    "    print(input_data,\" = \", logical_val)"
   ]
  },
  {
   "cell_type": "code",
   "execution_count": 59,
   "metadata": {},
   "outputs": [
    {
     "name": "stdout",
     "output_type": "stream",
     "text": [
      "Initial error value =  1.9205568604852434\n",
      "step =  0 error value =  1.9175395316745694\n",
      "step =  400 error value =  1.1954115431714591\n",
      "step =  800 error value =  0.850388373960275\n",
      "step =  1200 error value =  0.6531081713660171\n",
      "step =  1600 error value =  0.5267500164577023\n",
      "step =  2000 error value =  0.4394615506792593\n",
      "step =  2400 error value =  0.375865117340449\n",
      "step =  2800 error value =  0.32765180980154573\n",
      "step =  3200 error value =  0.28995244003323534\n",
      "step =  3600 error value =  0.25973364564176166\n",
      "step =  4000 error value =  0.2350127989843421\n",
      "step =  4400 error value =  0.2144426290884246\n",
      "step =  4800 error value =  0.19707757060864523\n",
      "step =  5200 error value =  0.1822356317540095\n",
      "step =  5600 error value =  0.16941328012954643\n",
      "step =  6000 error value =  0.15823112218300558\n",
      "step =  6400 error value =  0.14839817049055506\n",
      "step =  6800 error value =  0.1396877101069311\n",
      "step =  7200 error value =  0.13192061584477105\n",
      "step =  7600 error value =  0.12495357980940135\n",
      "step =  8000 error value =  0.11867064929647976\n"
     ]
    }
   ],
   "source": [
    "xdata = np.array([[0,0],[0,1],[1,0],[1,1]])\n",
    "tdata = np.array([0,1,1,1])\n",
    "\n",
    "OR_obj = LogicGate(\"OR_GATE\",xdata,tdata)\n",
    "OR_obj.train()"
   ]
  },
  {
   "cell_type": "code",
   "execution_count": 60,
   "metadata": {},
   "outputs": [
    {
     "name": "stdout",
     "output_type": "stream",
     "text": [
      "OR_GATE\n",
      "[0 0]  =  0\n",
      "[0 1]  =  1\n",
      "[1 0]  =  1\n",
      "[1 1]  =  1\n"
     ]
    }
   ],
   "source": [
    "print(OR_obj.name)\n",
    "\n",
    "test_data = np.array([[0,0],[0,1],[1,0],[1,1]])\n",
    "\n",
    "for input_data in test_data :\n",
    "    (sigmoid_val, logical_val) = OR_obj.predict(input_data)\n",
    "    print(input_data,\" = \", logical_val)"
   ]
  },
  {
   "cell_type": "code",
   "execution_count": 61,
   "metadata": {},
   "outputs": [
    {
     "name": "stdout",
     "output_type": "stream",
     "text": [
      "Initial error value =  2.8351926909878262\n",
      "step =  0 error value =  2.8272782061822177\n",
      "step =  400 error value =  1.6108187040891169\n",
      "step =  800 error value =  1.1795533343675075\n",
      "step =  1200 error value =  0.9415339565162728\n",
      "step =  1600 error value =  0.7866841085983638\n",
      "step =  2000 error value =  0.6763315556605474\n",
      "step =  2400 error value =  0.5931302687206135\n",
      "step =  2800 error value =  0.5279473713907591\n",
      "step =  3200 error value =  0.4754287587659217\n",
      "step =  3600 error value =  0.43219014308806974\n",
      "step =  4000 error value =  0.39597106237664004\n",
      "step =  4400 error value =  0.3651968863495415\n",
      "step =  4800 error value =  0.33873377511769504\n",
      "step =  5200 error value =  0.315743037843112\n",
      "step =  5600 error value =  0.2955902896411602\n",
      "step =  6000 error value =  0.27778651705622803\n",
      "step =  6400 error value =  0.2619485766917372\n",
      "step =  6800 error value =  0.2477719803098684\n",
      "step =  7200 error value =  0.2350116976434311\n",
      "step =  7600 error value =  0.2234683350643767\n",
      "step =  8000 error value =  0.21297800450516982\n"
     ]
    }
   ],
   "source": [
    "xdata = np.array([[0,0],[0,1],[1,0],[1,1]])\n",
    "tdata = np.array([1,1,1,0])\n",
    "\n",
    "NAND_obj = LogicGate(\"NAND_GATE\",xdata,tdata)\n",
    "NAND_obj.train()"
   ]
  },
  {
   "cell_type": "code",
   "execution_count": 62,
   "metadata": {},
   "outputs": [
    {
     "name": "stdout",
     "output_type": "stream",
     "text": [
      "NAND_GATE\n",
      "[0 0]  =  1\n",
      "[0 1]  =  1\n",
      "[1 0]  =  1\n",
      "[1 1]  =  0\n"
     ]
    }
   ],
   "source": [
    "print(NAND_obj.name)\n",
    "\n",
    "test_data = np.array([[0,0],[0,1],[1,0],[1,1]])\n",
    "\n",
    "for input_data in test_data :\n",
    "    (sigmoid_val, logical_val) = NAND_obj.predict(input_data)\n",
    "    print(input_data,\" = \", logical_val)"
   ]
  },
  {
   "cell_type": "code",
   "execution_count": 63,
   "metadata": {},
   "outputs": [
    {
     "name": "stdout",
     "output_type": "stream",
     "text": [
      "Initial error value =  3.082024373893311\n",
      "step =  0 error value =  3.074369787638773\n",
      "step =  400 error value =  2.782136285339421\n",
      "step =  800 error value =  2.7750272142104966\n",
      "step =  1200 error value =  2.773242852148641\n",
      "step =  1600 error value =  2.7727685968244824\n",
      "step =  2000 error value =  2.7726384592389763\n",
      "step =  2400 error value =  2.772602154888087\n",
      "step =  2800 error value =  2.7725919438346907\n",
      "step =  3200 error value =  2.7725890603936874\n",
      "step =  3600 error value =  2.7725882445943384\n",
      "step =  4000 error value =  2.7725880135720824\n",
      "step =  4400 error value =  2.772587948121363\n",
      "step =  4800 error value =  2.7725879295747022\n",
      "step =  5200 error value =  2.7725879243186444\n",
      "step =  5600 error value =  2.7725879228290244\n",
      "step =  6000 error value =  2.7725879224068417\n",
      "step =  6400 error value =  2.772587922287187\n",
      "step =  6800 error value =  2.7725879222532748\n",
      "step =  7200 error value =  2.7725879222436625\n",
      "step =  7600 error value =  2.7725879222409384\n",
      "step =  8000 error value =  2.7725879222401666\n",
      "XOR_GATE\n",
      "[0 0]  =  0\n",
      "[0 1]  =  0\n",
      "[1 0]  =  0\n",
      "[1 1]  =  1\n"
     ]
    }
   ],
   "source": [
    "xdata = np.array([[0,0],[0,1],[1,0],[1,1]])\n",
    "tdata = np.array([0,1,1,0])\n",
    "\n",
    "XOR_obj = LogicGate(\"XOR_GATE\",xdata,tdata)\n",
    "XOR_obj.train()\n",
    "\n",
    "print(XOR_obj.name)\n",
    "\n",
    "test_data = np.array([[0,0],[0,1],[1,0],[1,1]])\n",
    "\n",
    "for input_data in test_data :\n",
    "    (sigmoid_val, logical_val) = XOR_obj.predict(input_data)\n",
    "    print(input_data,\" = \", logical_val)"
   ]
  },
  {
   "cell_type": "code",
   "execution_count": 64,
   "metadata": {},
   "outputs": [
    {
     "name": "stdout",
     "output_type": "stream",
     "text": [
      "[0 0]  =  0\n",
      "\n",
      "[0 1]  =  1\n",
      "\n",
      "[1 0]  =  1\n",
      "\n",
      "[1 1]  =  0\n",
      "\n"
     ]
    }
   ],
   "source": [
    "# XOR 을 NAND + OR => AND 조합으로 계산함\n",
    "input_data = np.array([ [0, 0], [0, 1], [1, 0], [1, 1] ])\n",
    "\n",
    "s1 = []    # NAND 출력\n",
    "s2 = []    # OR 출력\n",
    "\n",
    "new_input_data = []  # AND 입력\n",
    "final_output = []    # AND 출력\n",
    "\n",
    "for index in range(len(input_data)):\n",
    "    \n",
    "    s1 = NAND_obj.predict(input_data[index])  # NAND 출력\n",
    "    s2 = OR_obj.predict(input_data[index])    # OR 출력\n",
    "    \n",
    "    new_input_data.append(s1[-1])    # AND 입력\n",
    "    new_input_data.append(s2[-1])    # AND 입력\n",
    "    \n",
    "    (sigmoid_val, logical_val) = AND_obj.predict(np.array(new_input_data))\n",
    "    \n",
    "    final_output.append(logical_val)    # AND 출력, 즉 XOR 출력    \n",
    "    new_input_data = []    # AND 입력 초기화\n",
    "\n",
    "\n",
    "for index in range(len(input_data)):    \n",
    "    print(input_data[index], \" = \", final_output[index], end='')\n",
    "    print(\"\\n\")"
   ]
  }
 ],
 "metadata": {
  "kernelspec": {
   "display_name": "Python 3.10.5 64-bit",
   "language": "python",
   "name": "python3"
  },
  "language_info": {
   "codemirror_mode": {
    "name": "ipython",
    "version": 3
   },
   "file_extension": ".py",
   "mimetype": "text/x-python",
   "name": "python",
   "nbconvert_exporter": "python",
   "pygments_lexer": "ipython3",
   "version": "3.10.5"
  },
  "orig_nbformat": 4,
  "vscode": {
   "interpreter": {
    "hash": "fb4569285eef3a3450cb62085a5b1e0da4bce0af555edc33dcf29baf3acc1368"
   }
  }
 },
 "nbformat": 4,
 "nbformat_minor": 2
}
